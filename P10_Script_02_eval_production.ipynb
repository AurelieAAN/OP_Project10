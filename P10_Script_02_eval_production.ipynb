{
 "cells": [
  {
   "cell_type": "markdown",
   "metadata": {},
   "source": [
    "# Projet 10 : Evaluation production"
   ]
  },
  {
   "cell_type": "markdown",
   "metadata": {},
   "source": [
    "Problématique : Créer un chatbot\n",
    "\n",
    "+++++ expliquer Luis"
   ]
  },
  {
   "cell_type": "markdown",
   "metadata": {},
   "source": [
    "Nous disposons des dialogues Frames au format JSON.\n",
    "\n",
    "Les données proviennent de ce site : https://www.microsoft.com/en-us/research/project/frames-dataset/download/"
   ]
  },
  {
   "cell_type": "code",
   "execution_count": 45,
   "metadata": {},
   "outputs": [],
   "source": [
    "import pandas as pd"
   ]
  },
  {
   "cell_type": "code",
   "execution_count": 46,
   "metadata": {},
   "outputs": [],
   "source": [
    "import sys\n",
    "# Insert the path of modules folder\n",
    "sys.path.insert(0, \"Package\")\n",
    "\n",
    "# Import the module0 directly since\n",
    "import Scripts_Analyse01 as pk\n",
    "import Scripts_AnalyseMulti01 as pk_multi\n",
    "import Scripts_AnalyseMulti02_Unsupervised as pk_multi_unsp\n",
    "import Scripts_AnalyseMulti02_Supervised as pk_multi_sup"
   ]
  },
  {
   "cell_type": "markdown",
   "metadata": {},
   "source": [
    "## Envoies des données à Luis"
   ]
  },
  {
   "cell_type": "code",
   "execution_count": 60,
   "metadata": {},
   "outputs": [],
   "source": [
    "from azure.cognitiveservices.language.luis.authoring import LUISAuthoringClient\n",
    "from azure.cognitiveservices.language.luis.authoring.models import ApplicationCreateObject\n",
    "from azure.cognitiveservices.language.luis.runtime import LUISRuntimeClient\n",
    "from msrest.authentication import CognitiveServicesCredentials\n",
    "from functools import reduce\n",
    "\n",
    "import json, time, uuid"
   ]
  },
  {
   "cell_type": "code",
   "execution_count": 598,
   "metadata": {},
   "outputs": [],
   "source": [
    "authoringKey = '33acfaaa00644a1cb49e5a30d16c32e5'\n",
    "authoringEndpoint = 'https://luisappproject10weu0001-authoring.cognitiveservices.azure.com/'\n",
    "predictionKey = '54489d2d37f94785b4cee624518f31b8'\n",
    "predictionEndpoint = 'https://luis-appproject10-weu-0001.cognitiveservices.azure.com/'"
   ]
  },
  {
   "cell_type": "code",
   "execution_count": 599,
   "metadata": {},
   "outputs": [],
   "source": [
    "client = LUISAuthoringClient(authoringEndpoint, CognitiveServicesCredentials(authoringKey))"
   ]
  },
  {
   "cell_type": "code",
   "execution_count": 602,
   "metadata": {},
   "outputs": [],
   "source": [
    "app_id = \"23e77110-61c4-4828-9a79-4edf3828e905\"\n",
    "app_name = \"APP-PROJECT10CHATBOTFLY-WEU-001\"\n",
    "version_id = 0.1"
   ]
  },
  {
   "cell_type": "code",
   "execution_count": null,
   "metadata": {},
   "outputs": [],
   "source": [
    "# define machine-learned entity\n",
    "mlEntityDefinition = [\n",
    "{\n",
    "    \"name\": \"dst_city\",\n",
    "    \"children\": [\n",
    "        { \"name\": \"city\" }\n",
    "    ]\n",
    "},\n",
    "{\n",
    "    \"name\": \"or_city\",\n",
    "    \"children\": [\n",
    "        { \"name\": \"city\" }\n",
    "    ]\n",
    "},\n",
    "{\n",
    "    \"name\": \"str_date\",\n",
    "    \"children\": [\n",
    "        { \"name\": \"date\" }\n",
    "    ]\n",
    "},\n",
    "{\n",
    "    \"name\": \"end_date\",\n",
    "    \"children\": [\n",
    "        { \"name\": \"date\" }\n",
    "    ]\n",
    "},\n",
    "{\n",
    "    \"name\": \"budget\",\n",
    "    \"children\": [\n",
    "        { \"name\": \"value\" }\n",
    "    ]\n",
    "}]\n"
   ]
  },
  {
   "cell_type": "markdown",
   "metadata": {},
   "source": [
    "## EVALUER LE MODELE"
   ]
  },
  {
   "cell_type": "markdown",
   "metadata": {},
   "source": [
    "Réalisons les prédictions pour les données test"
   ]
  },
  {
   "cell_type": "markdown",
   "metadata": {},
   "source": [
    "Pour cela, créons une fonction"
   ]
  },
  {
   "cell_type": "code",
   "execution_count": 623,
   "metadata": {},
   "outputs": [],
   "source": [
    "runtimeCredentials = CognitiveServicesCredentials(predictionKey)\n",
    "clientRuntime = LUISRuntimeClient(endpoint=predictionEndpoint, credentials=runtimeCredentials)"
   ]
  },
  {
   "cell_type": "code",
   "execution_count": 624,
   "metadata": {},
   "outputs": [],
   "source": [
    "def luis_prediction(text):\n",
    "    # Production == slot name\n",
    "    predictionRequest = { \"query\" : text }\n",
    "    predictionResponse = clientRuntime.prediction.get_slot_prediction(app_id, \"Production\", predictionRequest)\n",
    "    return predictionResponse.prediction.entities"
   ]
  },
  {
   "cell_type": "code",
   "execution_count": 631,
   "metadata": {},
   "outputs": [],
   "source": [
    "def split_pred(item, parentid):\n",
    "    if item is None :\n",
    "        print(\"None\")\n",
    "    else:\n",
    "        if 'Book Flight' in item:\n",
    "            itembk = item['Book Flight'][0]\n",
    "            lab = mlEntityDefinition[parentid]\n",
    "            parent = lab[\"name\"]\n",
    "            child = lab[\"children\"][0][\"name\"]\n",
    "            if parent in str(item):\n",
    "                #print(itembk[parent])\n",
    "                return itembk[parent][0][child][0]\n",
    "            else:\n",
    "                print(\"None\")\n",
    "        else:\n",
    "            print(\"None\")\n",
    "                "
   ]
  },
  {
   "cell_type": "markdown",
   "metadata": {},
   "source": [
    "Comparons les entités"
   ]
  },
  {
   "cell_type": "code",
   "execution_count": 462,
   "metadata": {},
   "outputs": [
    {
     "data": {
      "text/plain": [
       "[{'name': 'dst_city', 'children': [{'name': 'city'}]},\n",
       " {'name': 'or_city', 'children': [{'name': 'city'}]},\n",
       " {'name': 'str_date', 'children': [{'name': 'date'}]},\n",
       " {'name': 'end_date', 'children': [{'name': 'date'}]},\n",
       " {'name': 'budget', 'children': [{'name': 'value'}]}]"
      ]
     },
     "execution_count": 462,
     "metadata": {},
     "output_type": "execute_result"
    }
   ],
   "source": [
    "mlEntityDefinition"
   ]
  },
  {
   "cell_type": "code",
   "execution_count": 645,
   "metadata": {},
   "outputs": [],
   "source": [
    "def compare_entity(item):\n",
    "    score = []\n",
    "    if item[\"pred_dst_city\"]== item[\"dst_city\"]:\n",
    "        score.append(1)\n",
    "    if item[\"pred_or_city\"]== item[\"or_city\"]:\n",
    "        score.append(1)\n",
    "    if item[\"pred_str_date\"]== item[\"str_date\"]:\n",
    "        score.append(1)\n",
    "    if item[\"pred_end_date\"]== item[\"end_date\"]:\n",
    "        score.append(1)\n",
    "    if item[\"pred_budget\"]== item[\"budget\"]:\n",
    "        score.append(1)\n",
    "    return np.sum(score)/5\n",
    "\n",
    "    "
   ]
  },
  {
   "cell_type": "markdown",
   "metadata": {},
   "source": [
    "Calculons un taux de reussite sur le nombre d'entités correcte"
   ]
  },
  {
   "cell_type": "code",
   "execution_count": 646,
   "metadata": {},
   "outputs": [],
   "source": [
    "df_test[\"score\"] = df_test.apply(compare_entity, axis=1)"
   ]
  },
  {
   "cell_type": "markdown",
   "metadata": {},
   "source": [
    "Faisons une moyenne du taux de reussite"
   ]
  },
  {
   "cell_type": "code",
   "execution_count": 647,
   "metadata": {},
   "outputs": [
    {
     "data": {
      "text/plain": [
       "0.7746958637469585"
      ]
     },
     "execution_count": 647,
     "metadata": {},
     "output_type": "execute_result"
    }
   ],
   "source": [
    "np.average(df_test[\"score\"])"
   ]
  },
  {
   "cell_type": "markdown",
   "metadata": {},
   "source": [
    "## Prédiction "
   ]
  },
  {
   "cell_type": "code",
   "execution_count": 648,
   "metadata": {},
   "outputs": [],
   "source": [
    "runtimeCredentials = CognitiveServicesCredentials(predictionKey)\n",
    "clientRuntime = LUISRuntimeClient(endpoint=predictionEndpoint, credentials=runtimeCredentials)"
   ]
  },
  {
   "cell_type": "code",
   "execution_count": 649,
   "metadata": {},
   "outputs": [
    {
     "name": "stdout",
     "output_type": "stream",
     "text": [
      "Top intent: bookFlight\n",
      "Sentiment: None\n",
      "\t\"bookFlight\"\n",
      "Entities: {'Book Flight': [{'dst_city': [{'city': ['Caprica']}], 'or_city': [{'city': ['Paris,']}], 'str_date': [{'date': ['Sunday August 21, 2016']}]}], 'geographyV2': [{'value': 'Paris', 'type': 'city'}], 'datetimeV2': [{'type': 'daterange', 'values': [{'timex': '(2016-08-21,2016-08-31,P10D)', 'resolution': [{'start': '2016-08-21', 'end': '2016-08-31'}]}]}], 'number': [21, 2016, 31, 2016]}\n"
     ]
    }
   ],
   "source": [
    "# Production == slot name\n",
    "predictionRequest = { \"query\" : \"Hi I'd like to go to Caprica from Paris, between Sunday August 21, 2016 and Wednesday August 31, 2016\" }\n",
    "\n",
    "predictionResponse = clientRuntime.prediction.get_slot_prediction(app_id, \"Production\", predictionRequest)\n",
    "print(\"Top intent: {}\".format(predictionResponse.prediction.top_intent))\n",
    "print(\"Sentiment: {}\".format (predictionResponse.prediction.sentiment))\n",
    "\n",
    "for intent in predictionResponse.prediction.intents:\n",
    "    print(\"\\t{}\".format (json.dumps (intent)))\n",
    "print(\"Entities: {}\".format (predictionResponse.prediction.entities))"
   ]
  },
  {
   "cell_type": "markdown",
   "metadata": {},
   "source": [
    "## App insight"
   ]
  },
  {
   "cell_type": "markdown",
   "metadata": {},
   "source": [
    "### Récupération des evènements du bot"
   ]
  },
  {
   "cell_type": "code",
   "execution_count": 13,
   "metadata": {},
   "outputs": [
    {
     "name": "stdout",
     "output_type": "stream",
     "text": [
      "{'name': '2022-11-04T08:30:24.13063Z', 'columns': '1 - Bot recap confirmed by user', 'rows': 'customEvent'}\n",
      "{'name': '2022-11-04T08:30:17.790642Z', 'columns': 'WaterfallStep', 'rows': 'customEvent'}\n",
      "{'name': '2022-11-04T08:30:17.787646Z', 'columns': 'BotMessageReceived', 'rows': 'customEvent'}\n",
      "{'name': '2022-11-04T08:30:15.5435Z', 'columns': 'BotMessageSend', 'rows': 'customEvent'}\n",
      "{'name': '2022-11-04T08:30:15.539517Z', 'columns': 'BotMessageSend', 'rows': 'customEvent'}\n",
      "{'name': '2022-11-04T08:30:15.539517Z', 'columns': 'WaterfallComplete', 'rows': 'customEvent'}\n",
      "{'name': '2022-11-04T08:30:15.539517Z', 'columns': 'WaterfallStep', 'rows': 'customEvent'}\n",
      "{'name': '2022-11-04T08:30:15.539517Z', 'columns': 'WaterfallStep', 'rows': 'customEvent'}\n",
      "{'name': '2022-11-04T08:30:15.278471Z', 'columns': 'BotMessageReceived', 'rows': 'customEvent'}\n",
      "{'name': '2022-11-04T08:30:12.989996Z', 'columns': 'BotMessageSend', 'rows': 'customEvent'}\n"
     ]
    }
   ],
   "source": [
    "import requests\n",
    "import json\n",
    "\n",
    "appId = \"ef2a87f7-8613-4969-a421-818716f9ec1b\"\n",
    "appKey = \"86cq5geh0yu3lxj4p5vxhhvphqnbbtk0721kow8q\"\n",
    "\n",
    "query = \"\"\"\n",
    "  customEvents\n",
    "  | where timestamp > ago(1d)\n",
    "  | order by timestamp\n",
    "  | limit 10\n",
    "\"\"\"\n",
    "\n",
    "params = {\"query\": query}\n",
    "headers = {'X-Api-Key': appKey}\n",
    "url = f'https://api.applicationinsights.io/v1/apps/{appId}/query'\n",
    "\n",
    "response = requests.get(url, headers=headers, params=params)\n",
    "\n",
    "logs = json.loads(response.text)\n",
    "\n",
    "for row in logs['tables'][0]['rows']:\n",
    "  structured = dict(zip(logs['tables'][0], row))\n",
    "  print(structured)"
   ]
  },
  {
   "cell_type": "code",
   "execution_count": 12,
   "metadata": {},
   "outputs": [
    {
     "name": "stdout",
     "output_type": "stream",
     "text": [
      "{'name': '2022-11-04T08:20:46.300372Z', 'columns': '0 - Bot recap not confirmed by user', 'rows': 'customEvent'}\n",
      "{'name': '2022-11-04T08:20:46.300372Z', 'columns': '0 - Bot recap not confirmed by user', 'rows': 'customEvent'}\n"
     ]
    }
   ],
   "source": [
    "for row in logs['tables'][0]['rows']:\n",
    "  structured = dict(zip(logs['tables'][0], row))\n",
    "  if \"Bot recap\" in structured[\"columns\"]:\n",
    "    print(structured[\"columns\"])"
   ]
  },
  {
   "cell_type": "markdown",
   "metadata": {},
   "source": [
    "### Répartition des confirmations/infirmations des réponses du bot par les utilisateurs (J-1)"
   ]
  },
  {
   "cell_type": "code",
   "execution_count": 21,
   "metadata": {},
   "outputs": [
    {
     "name": "stdout",
     "output_type": "stream",
     "text": [
      "{'name': '1 - Bot recap confirmed by user', 'columns': 3}\n",
      "{'name': '0 - Bot recap not confirmed by user', 'columns': 2}\n"
     ]
    }
   ],
   "source": [
    "import requests\n",
    "import json\n",
    "\n",
    "appId = \"ef2a87f7-8613-4969-a421-818716f9ec1b\"\n",
    "appKey = \"86cq5geh0yu3lxj4p5vxhhvphqnbbtk0721kow8q\"\n",
    "\n",
    "query = \"\"\"\n",
    "customEvents\n",
    "| where name contains \"Bot recap\" and timestamp > ago(1d)\n",
    "| summarize Count=sum(itemCount) by RequestName = name\n",
    "\"\"\"\n",
    "\n",
    "params = {\"query\": query}\n",
    "headers = {'X-Api-Key': appKey}\n",
    "url = f'https://api.applicationinsights.io/v1/apps/{appId}/query'\n",
    "\n",
    "response = requests.get(url, headers=headers, params=params)\n",
    "\n",
    "logs = json.loads(response.text)\n",
    "\n",
    "for row in logs['tables'][0]['rows']:\n",
    "  structured = dict(zip(logs['tables'][0], row))\n",
    "  print(structured)"
   ]
  },
  {
   "cell_type": "markdown",
   "metadata": {},
   "source": [
    "### Nombre de demandes luis incomplètes par heure (J-1)"
   ]
  },
  {
   "cell_type": "code",
   "execution_count": 19,
   "metadata": {},
   "outputs": [
    {
     "name": "stdout",
     "output_type": "stream",
     "text": [
      "{'name': '2022-11-04T03:00:00Z', 'columns': 'WaterfallComplete', 'rows': 3}\n",
      "{'name': '2022-11-04T06:00:00Z', 'columns': 'WaterfallComplete', 'rows': 6}\n",
      "{'name': '2022-11-04T08:00:00Z', 'columns': 'WaterfallComplete', 'rows': 12}\n"
     ]
    }
   ],
   "source": [
    "import requests\n",
    "import json\n",
    "\n",
    "appId = \"ef2a87f7-8613-4969-a421-818716f9ec1b\"\n",
    "appKey = \"86cq5geh0yu3lxj4p5vxhhvphqnbbtk0721kow8q\"\n",
    "\n",
    "query = \"\"\"\n",
    "customEvents\n",
    "| where name contains \"WaterFallComplete\" and timestamp > ago(1d)\n",
    "| summarize Count=sum(itemCount)  by bin(timestamp, 1h), RequestName = name\n",
    "\"\"\"\n",
    "\n",
    "params = {\"query\": query}\n",
    "headers = {'X-Api-Key': appKey}\n",
    "url = f'https://api.applicationinsights.io/v1/apps/{appId}/query'\n",
    "\n",
    "response = requests.get(url, headers=headers, params=params)\n",
    "\n",
    "logs = json.loads(response.text)\n",
    "\n",
    "for row in logs['tables'][0]['rows']:\n",
    "  structured = dict(zip(logs['tables'][0], row))\n",
    "  print(structured)"
   ]
  },
  {
   "cell_type": "markdown",
   "metadata": {},
   "source": [
    "### Nombre de bugs du Bot (J-1)"
   ]
  },
  {
   "cell_type": "code",
   "execution_count": 22,
   "metadata": {},
   "outputs": [
    {
     "name": "stdout",
     "output_type": "stream",
     "text": [
      "{'name': '2022-11-04T03:00:00Z', 'columns': 'BotMessageSend', 'rows': 1}\n"
     ]
    }
   ],
   "source": [
    "import requests\n",
    "import json\n",
    "\n",
    "appId = \"ef2a87f7-8613-4969-a421-818716f9ec1b\"\n",
    "appKey = \"86cq5geh0yu3lxj4p5vxhhvphqnbbtk0721kow8q\"\n",
    "\n",
    "query = \"\"\"\n",
    "customEvents\n",
    " | where name contains \"BotMessageSend\" and customDimensions contains \"text\" and customDimensions[\"text\"] contains \"bug\" and timestamp > ago(1d)\n",
    " | summarize count(itemCount) by bin(timestamp, 1h), RequestName = name\n",
    "\"\"\"\n",
    "\n",
    "params = {\"query\": query}\n",
    "headers = {'X-Api-Key': appKey}\n",
    "url = f'https://api.applicationinsights.io/v1/apps/{appId}/query'\n",
    "\n",
    "response = requests.get(url, headers=headers, params=params)\n",
    "\n",
    "logs = json.loads(response.text)\n",
    "\n",
    "for row in logs['tables'][0]['rows']:\n",
    "  structured = dict(zip(logs['tables'][0], row))\n",
    "  print(structured)"
   ]
  },
  {
   "cell_type": "code",
   "execution_count": null,
   "metadata": {},
   "outputs": [],
   "source": []
  }
 ],
 "metadata": {
  "interpreter": {
   "hash": "8e470ca1c31b38f5934decd712818a9429c205041bbde1b6f482615a699486c6"
  },
  "kernelspec": {
   "display_name": "Python 3.8.13 ('venv_010')",
   "language": "python",
   "name": "python3"
  },
  "language_info": {
   "codemirror_mode": {
    "name": "ipython",
    "version": 3
   },
   "file_extension": ".py",
   "mimetype": "text/x-python",
   "name": "python",
   "nbconvert_exporter": "python",
   "pygments_lexer": "ipython3",
   "version": "3.8.13"
  },
  "orig_nbformat": 4
 },
 "nbformat": 4,
 "nbformat_minor": 2
}
